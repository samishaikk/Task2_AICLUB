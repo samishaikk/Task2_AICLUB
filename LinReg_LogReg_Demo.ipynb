{
  "nbformat": 4,
  "nbformat_minor": 0,
  "metadata": {
    "kernelspec": {
      "display_name": "Python 3",
      "language": "python",
      "name": "python3"
    },
    "language_info": {
      "codemirror_mode": {
        "name": "ipython",
        "version": 3
      },
      "file_extension": ".py",
      "mimetype": "text/x-python",
      "name": "python",
      "nbconvert_exporter": "python",
      "pygments_lexer": "ipython3",
      "version": "3.6.5"
    },
    "colab": {
      "name": "LinReg_LogReg_Demo.ipynb",
      "provenance": [],
      "include_colab_link": true
    }
  },
  "cells": [
    {
      "cell_type": "markdown",
      "metadata": {
        "id": "view-in-github",
        "colab_type": "text"
      },
      "source": [
        "<a href=\"https://colab.research.google.com/github/samishaikk/Task2_AICLUB/blob/main/LinReg_LogReg_Demo.ipynb\" target=\"_parent\"><img src=\"https://colab.research.google.com/assets/colab-badge.svg\" alt=\"Open In Colab\"/></a>"
      ]
    },
    {
      "cell_type": "code",
      "metadata": {
        "id": "sZtM1i_AhI5W"
      },
      "source": [
        "import numpy as np\n",
        "import matplotlib.pyplot as plt"
      ],
      "execution_count": null,
      "outputs": []
    },
    {
      "cell_type": "code",
      "metadata": {
        "id": "FVSOG9KnhI5k",
        "colab": {
          "base_uri": "https://localhost:8080/"
        },
        "outputId": "7b44e178-2c39-40a3-8cce-3bd302bc0e7e"
      },
      "source": [
        "logReg = True\n",
        "D = np.array([[-10,-10],[-8,-2],[-6,-12],[-4,-4],[10,10],[8,2],[6,12],[4,4]])\n",
        "x = D[:,0]\n",
        "if logReg:\n",
        "  Y = np.array([-1,-1,-1,-1,1,1,1,1]) #Log Regression\n",
        "  X = np.hstack((np.ones((Y.size,1)),D)) #Log Regression\n",
        "else:\n",
        "  Y = D[:,1]\n",
        "  X = np.hstack((np.ones((Y.size,1)),np.expand_dims(D[:, 0], axis=1)))\n",
        "print(Y, '\\n', X)"
      ],
      "execution_count": null,
      "outputs": [
        {
          "output_type": "stream",
          "name": "stdout",
          "text": [
            "[-1 -1 -1 -1  1  1  1  1] \n",
            " [[  1. -10. -10.]\n",
            " [  1.  -8.  -2.]\n",
            " [  1.  -6. -12.]\n",
            " [  1.  -4.  -4.]\n",
            " [  1.  10.  10.]\n",
            " [  1.   8.   2.]\n",
            " [  1.   6.  12.]\n",
            " [  1.   4.   4.]]\n"
          ]
        }
      ]
    },
    {
      "cell_type": "markdown",
      "metadata": {
        "id": "G8vMIWF64HHT"
      },
      "source": [
        "Once you get the line (the parameter m and c. Plot the points on the line along with the data. For this, generate many x values between the min x value and max value of the dataset and compute y values. Then compute the points and plot the points along with dataset. Note that if the slope of the line is > 1, you may need to do it the other way...i.e., fix y and find x"
      ]
    },
    {
      "cell_type": "code",
      "metadata": {
        "id": "Dv4aGo9x369C"
      },
      "source": [
        "def plotDataAndModel(X, LineParams):\n",
        "  x = np.arange(np.min(X[:,1]),np.max(X[:,1]),0.01);\n",
        "  (c,a,b)=LineParams\n",
        "  y = -(a*x + c)/b \n",
        "  plt.scatter(D[:,0],D[:,1], s=75)\n",
        "  plt.plot(x, y, '-',color='r')"
      ],
      "execution_count": null,
      "outputs": []
    },
    {
      "cell_type": "markdown",
      "metadata": {
        "id": "i2J1Z5whQ8HF"
      },
      "source": [
        "Lets use Gradient Descent. We define the cost function (which we want to minimize), the MSE. Note the form of the predicted output which Theta'*x (which is mx+c if you are looking for a line) for Linear Regression and 1/(1 + e^(-Theta'*x)) for Logistic regression"
      ]
    },
    {
      "cell_type": "code",
      "metadata": {
        "id": "bI1JxyOlxPr7"
      },
      "source": [
        "def hThetaX(theta, x):\n",
        "    pred = np.dot(x, theta)\n",
        "    if logReg:\n",
        "      return 1 / (1 + np.exp(-pred)) #Logistic regression\n",
        "    else:\n",
        "      return pred #Linear regression"
      ],
      "execution_count": null,
      "outputs": []
    },
    {
      "cell_type": "code",
      "metadata": {
        "id": "7dAfvA9AhI5v"
      },
      "source": [
        "def cost_function(X, Y, theta):\n",
        "    if logReg:\n",
        "      J = -(1 / len(Y)) * np.sum(Y * np.log(hThetaX(theta, X)) + (1 - Y) * np.log(1 - hThetaX(theta, X)))\n",
        "    else:\n",
        "      J = np.sum((X.dot(theta)-Y)**2)/len(Y) \n",
        "    return J"
      ],
      "execution_count": null,
      "outputs": []
    },
    {
      "cell_type": "markdown",
      "metadata": {
        "id": "mfv6ANLZR1eD"
      },
      "source": [
        "Now lets define the gradeint descent update procedure. We are computing the same gradient derived in our lecture and trying to update the parameters. Note that we are exhaustively trying this for the number of 'iterations' specified. You can actually check the convergence status by evaluating say the norm of the gradient (should be very close to zero near convergence) for an early exit. Also, note that since the function is convex, cost should not increase over the subsequent iterations, if the chosen learning rate is in good range. If cost increses, cut down the learning rate. Once you are in a good alpha, you will surely converge, irrespective of the chosen alpha."
      ]
    },
    {
      "cell_type": "code",
      "metadata": {
        "id": "kj4E1jWwhI53"
      },
      "source": [
        "def gradient_descent(X, Y, theta, alpha, iterations):\n",
        "    n = len(Y)\n",
        "    cost_history = [0] * iterations\n",
        "    for iteration in range(iterations):\n",
        "        y_pred =  hThetaX(theta, X)\n",
        "        loss = y_pred-Y\n",
        "        gradient = X.T.dot(loss)*(2/n)\n",
        "        theta = theta - alpha*gradient\n",
        "        cost = cost_function(X, Y, theta)\n",
        "        cost_history[iteration] = cost\n",
        "        if(cost>cost_history[iteration-1]):\n",
        "            alpha = alpha*0.1\n",
        "    return theta, cost_history"
      ],
      "execution_count": null,
      "outputs": []
    },
    {
      "cell_type": "markdown",
      "metadata": {
        "id": "LSalydlRujXO"
      },
      "source": [
        "Trying to fit the given data using a line. The learning rate chosen is 0.01 and max iterations chosen is 100"
      ]
    },
    {
      "cell_type": "code",
      "metadata": {
        "id": "YMiPtAdahI6L",
        "colab": {
          "base_uri": "https://localhost:8080/",
          "height": 335
        },
        "outputId": "c75a075a-aef2-4a97-a8fc-a36f9a192429"
      },
      "source": [
        "if not logReg:\n",
        "  theta = np.array([0, 0])\n",
        "  (theta, cost) = gradient_descent(X,Y,theta,0.01,100)\n",
        "  theta=np.append(theta, -1) #y = mx + c\n",
        "else: \n",
        "  theta = np.array([0, 0, 0])\n",
        "  (theta, cost) = gradient_descent(X,Y,theta,0.01,100)\n",
        "plotDataAndModel(X, theta) "
      ],
      "execution_count": null,
      "outputs": [
        {
          "output_type": "stream",
          "name": "stderr",
          "text": [
            "/usr/local/lib/python3.7/dist-packages/ipykernel_launcher.py:3: RuntimeWarning: divide by zero encountered in log\n",
            "  This is separate from the ipykernel package so we can avoid doing imports until\n",
            "/usr/local/lib/python3.7/dist-packages/ipykernel_launcher.py:3: RuntimeWarning: invalid value encountered in multiply\n",
            "  This is separate from the ipykernel package so we can avoid doing imports until\n"
          ]
        },
        {
          "output_type": "display_data",
          "data": {
            "image/png": "[encoded data removed]",
            "text/plain": [
              "<Figure size 432x288 with 1 Axes>"
            ]
          },
          "metadata": {
            "needs_background": "light"
          }
        }
      ]
    },
    {
      "cell_type": "markdown",
      "metadata": {
        "id": "3uQ9UHKy-Sxe"
      },
      "source": [
        "Let's use builtin function for Linear Regression"
      ]
    },
    {
      "cell_type": "code",
      "metadata": {
        "colab": {
          "base_uri": "https://localhost:8080/",
          "height": 283
        },
        "id": "PTeIa99M-btJ",
        "outputId": "ee0e0407-19f8-40fd-feb8-7b17b4cbf375"
      },
      "source": [
        "from sklearn.linear_model import LinearRegression\n",
        "reg = LinearRegression().fit(X, Y)\n",
        "print(reg.score(X, Y), reg.coef_)\n",
        "theta = np.append(reg.coef_, -1)\n",
        "plotDataAndModel(X, theta)"
      ],
      "execution_count": null,
      "outputs": [
        {
          "output_type": "stream",
          "name": "stdout",
          "text": [
            "0.7297979797979798 [0.         0.94444444]\n"
          ]
        },
        {
          "output_type": "display_data",
          "data": {
            "image/png": "[encoded data removed]",
            "text/plain": [
              "<Figure size 432x288 with 1 Axes>"
            ]
          },
          "metadata": {
            "needs_background": "light"
          }
        }
      ]
    },
    {
      "cell_type": "code",
      "metadata": {
        "colab": {
          "base_uri": "https://localhost:8080/"
        },
        "id": "bTEN3eaQG8Qk",
        "outputId": "e8310faa-96fd-48c4-9b86-3759bb2bde3d"
      },
      "source": [
        "from sklearn.linear_model import LogisticRegression\n",
        "logreg = LogisticRegression()\n",
        "logreg.fit(X,Y)\n",
        "y_pred=logreg.predict(X)\n",
        "print(y_pred)"
      ],
      "execution_count": null,
      "outputs": [
        {
          "output_type": "stream",
          "name": "stdout",
          "text": [
            "[-1 -1 -1 -1  1  1  1  1]\n"
          ]
        }
      ]
    },
    {
      "cell_type": "markdown",
      "metadata": {
        "id": "zvcdZfd5IZ3F"
      },
      "source": [
        "Note that you should validate the results on a separate set of samples which are not used in training (Validation Set)"
      ]
    },
    {
      "cell_type": "code",
      "metadata": {
        "colab": {
          "base_uri": "https://localhost:8080/"
        },
        "id": "dLgmylH-IRwd",
        "outputId": "27875959-384f-4fd7-d487-4a3ee5422315"
      },
      "source": [
        "from sklearn import metrics\n",
        "cnf_matrix = metrics.confusion_matrix(Y, y_pred)\n",
        "cnf_matrix\n",
        "print(\"Accuracy:\",metrics.accuracy_score(Y, y_pred))\n",
        "print(\"Precision:\",metrics.precision_score(Y, y_pred))\n",
        "print(\"Recall:\",metrics.recall_score(Y, y_pred))"
      ],
      "execution_count": null,
      "outputs": [
        {
          "output_type": "stream",
          "name": "stdout",
          "text": [
            "Accuracy: 1.0\n",
            "Precision: 1.0\n",
            "Recall: 1.0\n"
          ]
        }
      ]
    },
    {
      "cell_type": "markdown",
      "metadata": {
        "id": "9iNOu6_Z_b5B"
      },
      "source": [
        "Activity: Execute and Understand the above code. Relate it to whatever you had learned in Theory session. \n",
        "Now you go through the tutorial at https://www.datacamp.com/community/tutorials/understanding-logistic-regression-python which uses the diabates dataset. How will you extend it for multi class. Now you build a notebook for classifying fischer Iris flowers, taking 70% of samples from each class for training and report accuracy on the remaining 30% data"
      ]
    }
  ]
}